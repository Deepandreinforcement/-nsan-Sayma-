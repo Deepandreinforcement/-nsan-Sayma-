{
 "cells": [
  {
   "cell_type": "markdown",
   "id": "7e73d243",
   "metadata": {},
   "source": [
    "Bu iki kütüphanenin kurulu olması lazım. Eğer sizde kurulu değilse alttaki iki hücreyi yorumdan çıkarıp çalıştırıp kurabilirsiniz."
   ]
  },
  {
   "cell_type": "code",
   "execution_count": null,
   "id": "d7772cae",
   "metadata": {},
   "outputs": [],
   "source": [
    "#!pip install tf-centernet"
   ]
  },
  {
   "cell_type": "code",
   "execution_count": null,
   "id": "81f6e2e7",
   "metadata": {},
   "outputs": [],
   "source": [
    "#!pip install filterpy==1.4.5"
   ]
  },
  {
   "cell_type": "code",
   "execution_count": 1,
   "id": "07046751",
   "metadata": {},
   "outputs": [],
   "source": [
    "import centernet\n",
    "# burada sort.py dosyasından alıyor bu modülü o yüzden bu dosyayı indirmeyi unutmayın\n",
    "from sort import Sort\n",
    "import numpy as np\n",
    "import cv2"
   ]
  },
  {
   "cell_type": "code",
   "execution_count": 2,
   "id": "0ec69e14",
   "metadata": {},
   "outputs": [],
   "source": [
    "# Burada kullmacağımız object detection modelini tanımlıyoruz. Ağırlığı yüklerken None diyoruz.\n",
    "# Bu sayede orijinal ağırlıklar kaynağından indirilecek.\n",
    "obj = centernet.ObjectDetection(num_classes=80)\n",
    "obj.load_weights(weights_path=None)"
   ]
  },
  {
   "cell_type": "code",
   "execution_count": 3,
   "id": "34358142",
   "metadata": {},
   "outputs": [],
   "source": [
    "# Burada kullanacağımız takip algoritmasını tanımlıyoruz.\n",
    "sort = Sort(max_age=1, min_hits=3, iou_threshold=0.3)"
   ]
  },
  {
   "cell_type": "code",
   "execution_count": 4,
   "id": "b69fd60d",
   "metadata": {},
   "outputs": [],
   "source": [
    "\n",
    "font = cv2.FONT_HERSHEY_COMPLEX\n",
    "# burada videonun adını tanımlıyoruz.\n",
    "kamera= cv2.VideoCapture('video.mp4')\n",
    "# Burada alanı belirliyoruz. Ben burada bunu dikdörtgen şeklinde ayarladım.\n",
    "# Siz isterseniz paralel kenar veya altıgen gibi şekiller olabilir.\n",
    "# burada şeklin köşe koordinatlarını giriyoruz.\n",
    "# Burada önemli nokta köşeler sırayla gitmeli.\n",
    "# Yani her bir köşe bir sonraki köşenin komşusu olmalı. Karşılıklı köşeler yan yana olmamalı.\n",
    "# Burada köşeler sırayla sol üst köşe, sağ üst köşe, sağ alt köşe ve sol alt köşe şeklinde.\n",
    "region=np.array([(270,180),(500,180),(500,320),(270,320)])\n",
    "region = region.reshape((-1,1,2))\n",
    "# Eğer bir kişi o bölgeye girmişse o kişinin id'sini bu kümenin içine ekliyoruz.\n",
    "# küme kullanma sebebimiz, kümede aynı elemandan sadece bir tane olabilir.\n",
    "toplam_id=set()\n",
    "while True:\n",
    "\n",
    "\n",
    "    ret, frame = kamera.read()\n",
    "    # burada görünütünün boyutunu küçültüyoruz. Bu opsiyonel\n",
    "    frame=cv2.resize(frame,None,fx=0.4,fy=0.4) \n",
    "    img = cv2.cvtColor(frame, cv2.COLOR_BGR2RGB)\n",
    "    # RGB görüntüyü modele verdik.\n",
    "    boxes, classes, scores = obj.predict(img)\n",
    "    detections_in_frame = len(boxes)\n",
    "    # insanların etiketlerdeki indeskleri 0 olduğu için sadece nesne 0 mı yani insan  mı diye kontrol ediyoruz.\n",
    "    if detections_in_frame:\n",
    "        idxs = np.where(classes == 0)[0]\n",
    "        boxes = boxes[idxs]\n",
    "        scores = scores[idxs]\n",
    "        classes = classes[idxs]\n",
    "    else:\n",
    "        boxes = np.empty((0, 5))\n",
    "\n",
    "    dets = np.hstack((boxes, scores[:,np.newaxis]))\n",
    "    # Tespit sonuçlarını düzenleyip takip sistemine veriyoruz.\n",
    "    res = sort.update(dets)\n",
    "    # Bu nesneleri içine alan dikdörtgenin koordinatları\n",
    "    boxes_track = res[:,:-1]\n",
    "    # Bu her bir insana ait farklı id'lerin yer aldığı bir liste\n",
    "    boces_ids = res[:,-1].astype(int)\n",
    "    \n",
    "    # bölgenin şeklini çizidiriyoruz.\n",
    "    cv2.polylines(frame,[region],True,(0,0,255),4)\n",
    "    # Burada tüm nesnelere ait bilgiler 3 farklı listede.\n",
    "    # Her bir nesneye ait bilgileri almak için for döngüsü kullanıyoruz.\n",
    "    for score,(xmin,ymin,xmax,ymax),ids in zip(scores, boxes_track, boces_ids):\n",
    "        # Eğer nesnenin tespit oranı 0.2 den yüksekse takip işlemi uygulayacağız\n",
    "        if score < 0.2:\n",
    "            continue\n",
    "        # burada koordinatlar integer tipine çeviriyoruz.\n",
    "        ymin,xmin,ymax,xmax=int(ymin),int(xmin),int(ymax),int(xmax)\n",
    "        # insanın orta noktasının koordinatlarını buluyoruz.\n",
    "        cx=int((xmin+xmax)/2)\n",
    "        cy=int((ymin+ymax)/2)\n",
    "        # burada insanın orta noktası belirledğimiz bölgenin içinde mi diye kontrol ediyoruz.\n",
    "        \n",
    "        inside_region=cv2.pointPolygonTest(region,(cx,cy),False)\n",
    "        # eğer bir insan buraya girmişse inside_region 0'dan büyük olacaktır.\n",
    "        # böylece koşul doğru olur ve koşullu ifadenin içindeki işlem yapılır.\n",
    "        if inside_region>0:\n",
    "            # Bölgeye giren kişinin id'sini bu kümenin ekliyoruz\n",
    "            toplam_id.add(ids)\n",
    "        # kümenin uzunluğu ne kadar ise toplam o kadar kişi geçmiştir.\n",
    "        toplam='Toplam:'+str(len(toplam_id))\n",
    "        # burada toplam geçen kişi sayısı ekranın sol üst köşesinde olacak\n",
    "        # görünüm güzel olsun diye beyaza boyadım o alanı\n",
    "        frame[0:60,0:270]=(255,255,255)\n",
    "        \n",
    "        cv2.putText(frame,toplam,(0, 40), font, 1.5, (128,0,128), 2,)\n",
    "        # Burada kişilerin orta noktasını mavi bir daire ile gösteriyoruz.\n",
    "        cv2.circle(frame,(cx,cy),5,(255,0,0),-1)\n",
    "        #frame = cv2.rectangle(frame,(xmin, ymax),(xmax, ymin),(0,255,0),2)      \n",
    "        #cv2.putText(frame,str(ids),(xmin, ymin+30), font, 1, (255,0,0), 2,)\n",
    "\n",
    "    cv2.imshow(\"kamera\",frame)\n",
    "    if cv2.waitKey(1) & 0xFF == ord('q'):\n",
    "        break\n",
    "    \n",
    "kamera.release()\n",
    "cv2.destroyAllWindows()"
   ]
  },
  {
   "cell_type": "code",
   "execution_count": null,
   "id": "db877cbb",
   "metadata": {},
   "outputs": [],
   "source": []
  }
 ],
 "metadata": {
  "kernelspec": {
   "display_name": "Python 3 (ipykernel)",
   "language": "python",
   "name": "python3"
  },
  "language_info": {
   "codemirror_mode": {
    "name": "ipython",
    "version": 3
   },
   "file_extension": ".py",
   "mimetype": "text/x-python",
   "name": "python",
   "nbconvert_exporter": "python",
   "pygments_lexer": "ipython3",
   "version": "3.7.4"
  }
 },
 "nbformat": 4,
 "nbformat_minor": 5
}
